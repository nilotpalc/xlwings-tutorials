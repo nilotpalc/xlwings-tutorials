{
 "cells": [
  {
   "cell_type": "markdown",
   "metadata": {
    "collapsed": true
   },
   "source": [
    "# User Defined Functions (UDFs)"
   ]
  },
  {
   "cell_type": "markdown",
   "metadata": {},
   "source": [
    "## How does it work?!"
   ]
  },
  {
   "cell_type": "markdown",
   "metadata": {},
   "source": [
    "![](img/xlwings_udf_architecture.png)"
   ]
  },
  {
   "cell_type": "markdown",
   "metadata": {},
   "source": [
    "<div class=\"alert alert-info\">\n",
    " \n",
    "**Note**: xlwings works with all bitness combinations of Excel and Python, e.g. Python 64-bit and Excel 32-bit work happily together. \n",
    "\n",
    "</div>"
   ]
  },
  {
   "cell_type": "markdown",
   "metadata": {},
   "source": [
    "# One-time Excel preparations for UDFs"
   ]
  },
  {
   "cell_type": "markdown",
   "metadata": {},
   "source": [
    "1) To be able to import funtions: Enable `Trust access to the VBA project object model` under  \n",
    "\n",
    "`File > Options > Trust Center > Trust Center Settings > Macro Settings`\n",
    "\n",
    "2) Install the add-in if you haven't done so yet, see previous tutorial"
   ]
  },
  {
   "cell_type": "markdown",
   "metadata": {},
   "source": [
    "# Our first UDF: Hello World"
   ]
  },
  {
   "cell_type": "markdown",
   "metadata": {
    "collapsed": true
   },
   "source": [
    "We stil have our `hello` project from the previous course module (if not: do `xlwings quickstart hello` again on the command prompt) with the following Python code:"
   ]
  },
  {
   "cell_type": "code",
   "execution_count": null,
   "metadata": {
    "collapsed": true
   },
   "outputs": [],
   "source": [
    "import xlwings as xw\n",
    "\n",
    "\n",
    "def hello_xlwings():\n",
    "    wb = xw.Book.caller()\n",
    "    wb.sheets[0].range(\"A1\").value = \"Hello xlwings!\"\n",
    "\n",
    "\n",
    "@xw.func\n",
    "def hello(name):\n",
    "    return \"hello {0}\".format(name)"
   ]
  },
  {
   "cell_type": "markdown",
   "metadata": {},
   "source": [
    "Now:\n",
    "* click on the `Import Functions` button on the add-in (make sure a reference to xlwings is set, see previous tutorial) and\n",
    "* call the function from a cell: `=hello(\"world\")` or `=hello(A1)`"
   ]
  },
  {
   "cell_type": "markdown",
   "metadata": {},
   "source": [
    "<div class=\"alert alert-info\">\n",
    " \n",
    "**Note**: After making changes to your function, (a) save the python file and (b) hit `Ctrl-Alt-F9` in Excel to recalculate the function and pick up the changes. You only need to re-import a formula when you change the arguments or the function name itself. \n",
    "\n",
    "</div>"
   ]
  },
  {
   "cell_type": "markdown",
   "metadata": {},
   "source": [
    "# Array Formulas"
   ]
  },
  {
   "cell_type": "code",
   "execution_count": null,
   "metadata": {
    "collapsed": true
   },
   "outputs": [],
   "source": [
    "@xw.func\n",
    "def add_one(x):\n",
    "    return [[cell + 1 for cell in row] for row in x]"
   ]
  },
  {
   "cell_type": "markdown",
   "metadata": {},
   "source": [
    "Now use it like this by selecting `D1:E2` and pressing `Ctrl+Shift+Enter` to create an array formula:"
   ]
  },
  {
   "cell_type": "markdown",
   "metadata": {},
   "source": [
    "![](img/array_formula.png)"
   ]
  },
  {
   "cell_type": "markdown",
   "metadata": {},
   "source": [
    "Remember that only 2d ranges come in as list of list? So this formula will fail on single cells and range vectors. Change it like this to work correctly:"
   ]
  },
  {
   "cell_type": "code",
   "execution_count": null,
   "metadata": {
    "collapsed": true
   },
   "outputs": [],
   "source": [
    "@xw.func\n",
    "@xw.arg('x', ndim=2)\n",
    "def add_one(x):\n",
    "    return [[cell + 1 for cell in row] for row in x]"
   ]
  },
  {
   "cell_type": "markdown",
   "metadata": {},
   "source": [
    "<div class=\"alert alert-info\">\n",
    "\n",
    "**Efficiency**: Use array formulas wherever possible instead of many single-cell formulas to speed up calculations. This is the same principle as we saw with the Range object: An array formula only crosses borders once.\n",
    "\n",
    "</div>"
   ]
  },
  {
   "cell_type": "markdown",
   "metadata": {},
   "source": [
    "# Converters and options: @xw.arg and @xw.ret decorators"
   ]
  },
  {
   "cell_type": "markdown",
   "metadata": {},
   "source": [
    "`@xw.arg` (for arguments) and `@xw.ret` (for return values) are the equivalent of `mysheet.range.options()`:"
   ]
  },
  {
   "cell_type": "markdown",
   "metadata": {},
   "source": [
    "## NumPy Converter"
   ]
  },
  {
   "cell_type": "code",
   "execution_count": null,
   "metadata": {
    "collapsed": true
   },
   "outputs": [],
   "source": [
    "import numpy as np\n",
    "\n",
    "@xw.func\n",
    "@xw.arg('x', np.array, ndim=2)\n",
    "def add_one2(x):\n",
    "    return x + 1"
   ]
  },
  {
   "cell_type": "markdown",
   "metadata": {},
   "source": [
    "## Pandas DataFrame Converter\n",
    "\n",
    "Pandas DataFrames are per default `ndim=2`, so no need to specify it explicitely."
   ]
  },
  {
   "cell_type": "code",
   "execution_count": null,
   "metadata": {
    "collapsed": true
   },
   "outputs": [],
   "source": [
    "import pandas as pd\n",
    "\n",
    "@xw.func\n",
    "@xw.arg('x', pd.DataFrame, index=False, header=False)\n",
    "@xw.ret(pd.DataFrame, index=False, header=False)\n",
    "def add_one3(x):\n",
    "    return x + 1"
   ]
  },
  {
   "cell_type": "markdown",
   "metadata": {},
   "source": [
    "In this case, we could have also just used the `.values` method instead of `@xw.ret` to suppress the index and headers:"
   ]
  },
  {
   "cell_type": "code",
   "execution_count": null,
   "metadata": {
    "collapsed": true
   },
   "outputs": [],
   "source": [
    "@xw.func\n",
    "@xw.arg('x', pd.DataFrame, index=False, header=False)\n",
    "def add_one3(x):\n",
    "    return (x + 1).values"
   ]
  },
  {
   "cell_type": "markdown",
   "metadata": {},
   "source": [
    "## xw.Range Converter"
   ]
  },
  {
   "cell_type": "markdown",
   "metadata": {},
   "source": [
    "Technically speaking, `xw.Range` is a \"no-converter\": It corresponds to what `mysheet.range(...)` returns:"
   ]
  },
  {
   "cell_type": "code",
   "execution_count": null,
   "metadata": {
    "collapsed": true
   },
   "outputs": [],
   "source": [
    "@xw.func\n",
    "@xw.arg('x', xw.Range)\n",
    "def get_formula(x):\n",
    "    return x.formula"
   ]
  },
  {
   "cell_type": "markdown",
   "metadata": {},
   "source": [
    "# Dynamic arrays"
   ]
  },
  {
   "cell_type": "markdown",
   "metadata": {},
   "source": [
    "<div class=\"alert alert-info\">\n",
    "\n",
    "**Note**: The example here requires that you install the `quandl` package either with `conda install quandl` or `pip install quandl`\n",
    "\n",
    "</div>"
   ]
  },
  {
   "cell_type": "markdown",
   "metadata": {},
   "source": [
    "While array formulas are great in terms of efficiency, they are a bit cumbersome to work with as they need to be deleted/recreated whenever the dimensions change.\n",
    "**Dynamic arrays** in xlwings get around that issue by providing a means of \"writing outside the cell formula\". \n",
    "  \n",
    "**Note:** this is slightly against the design of Excel and thus you need to take care to not overwrite existing cell values by accident.\n",
    "  \n",
    "Lets fetch some data from Quandl, a data provider that offers free financial data:"
   ]
  },
  {
   "cell_type": "markdown",
   "metadata": {},
   "source": [
    "`xlwings quickstart marketdata`"
   ]
  },
  {
   "cell_type": "markdown",
   "metadata": {},
   "source": [
    "Put the following code into `marketdata.py`:"
   ]
  },
  {
   "cell_type": "code",
   "execution_count": null,
   "metadata": {
    "collapsed": true
   },
   "outputs": [],
   "source": [
    "import xlwings as xw\n",
    "import quandl\n",
    "\n",
    "# It's free, but only a few calls are allowed without API key\n",
    "# quandl.ApiConfig.api_key = 'MY_QUANDL_API_KEY'\n",
    "\n",
    "@xw.func\n",
    "@xw.ret(expand='table')  # this makes it a dynamic array\n",
    "def get_history(ticker, start_date=None, end_date=None):\n",
    "    return quandl.get(ticker, start_date=start_date, end_date=end_date)"
   ]
  },
  {
   "cell_type": "markdown",
   "metadata": {},
   "source": [
    "Now you can import the formula and use it with something like `=get_history(\"WIKI/AAPL\", \"2016-01-01\")` to get the historical data for Apple."
   ]
  },
  {
   "cell_type": "markdown",
   "metadata": {},
   "source": [
    "<div class=\"alert alert-info\">\n",
    "\n",
    "**Note**: You must not use any volatile formula with dynamic arrays, like `=TODAY()`\n",
    "\n",
    "</div>"
   ]
  },
  {
   "cell_type": "markdown",
   "metadata": {},
   "source": [
    "# VBA Settings (add-in)"
   ]
  },
  {
   "cell_type": "markdown",
   "metadata": {},
   "source": [
    "* `UDF Modules`: It allows you to specify various modules from where you want to import your functions. So you could do something like: \n",
    "\n",
    "  `common_functions;myproject`\n",
    "\n",
    "  If you leave it empty, it expects a source file the way we've used it: in the same directory as the Excel file and with the same name but with a `.py` ending.\n",
    "\n",
    "* Make sure python can find the directory where the source modules are, if necessary you need to tweak the PYTHONPATH.\n",
    "\n",
    "* If you change code in python modules that are not directly imported from xlwings, using `Restart UDF Server` will load everything from scratch."
   ]
  },
  {
   "cell_type": "markdown",
   "metadata": {},
   "source": [
    "# In-Excel SQL Extension"
   ]
  },
  {
   "cell_type": "markdown",
   "metadata": {
    "collapsed": true
   },
   "source": [
    "Extensions are formulas directly embedded in the add-in and therefore available right after the installation of the add-in without further steps needed.\n",
    "\n",
    "We have built in the sql extension: `=sql(SQL Statement, table a, table b, ...)`. Open the file `sql.xlsx` (no xlsm necessary!) and play around!"
   ]
  },
  {
   "cell_type": "markdown",
   "metadata": {},
   "source": [
    "<div class=\"alert alert-info\">\n",
    "\n",
    "**Note**: Extensions don't require a macro-enabled workbook and don't require a reference to xlwings in the VBA editor neither!\n",
    "\n",
    "</div>"
   ]
  },
  {
   "cell_type": "markdown",
   "metadata": {},
   "source": [
    "\n",
    "\n",
    "# A Practical Example\n",
    "\n"
   ]
  },
  {
   "cell_type": "markdown",
   "metadata": {},
   "source": [
    "Implement an `end_of_month` UDF that resamples daily time series into end-of-month time series. Use the `timeseries.xlsm` to get some time series data. See http://pandas.pydata.org/pandas-docs/stable/generated/pandas.DataFrame.resample.html"
   ]
  },
  {
   "cell_type": "code",
   "execution_count": null,
   "metadata": {
    "collapsed": true
   },
   "outputs": [],
   "source": [
    "import xlwings as xw\n",
    "import pandas as pd\n",
    "\n",
    "@xw.func\n",
    "@xw.arg('x', pd.DataFrame)\n",
    "def end_of_month(x):\n",
    "    return x.resample('M').last()"
   ]
  },
  {
   "cell_type": "markdown",
   "metadata": {},
   "source": [
    "# Asynchronous Functions"
   ]
  },
  {
   "cell_type": "markdown",
   "metadata": {},
   "source": [
    "xlwings (since v0.14.0) offers an easy way to write asynchronous functions in Excel. Asynchronous functions return immediately with `#N/A waiting...` While the function is waiting for its return value, you can use Excel to do other stuff and whenever the return value is available, the cell value will be updated. This is the syntax:"
   ]
  },
  {
   "cell_type": "code",
   "execution_count": null,
   "metadata": {},
   "outputs": [],
   "source": [
    "import xlwings as xw\n",
    "import time\n",
    "\n",
    "@xw.func(async_mode='threading')\n",
    "def myfunction(a):\n",
    "    time.sleep(5)  # long running tasks\n",
    "    return a"
   ]
  }
 ],
 "metadata": {
  "kernelspec": {
   "display_name": "Python 3",
   "language": "python",
   "name": "python3"
  },
  "language_info": {
   "codemirror_mode": {
    "name": "ipython",
    "version": 3
   },
   "file_extension": ".py",
   "mimetype": "text/x-python",
   "name": "python",
   "nbconvert_exporter": "python",
   "pygments_lexer": "ipython3",
   "version": "3.7.0"
  },
  "toc": {
   "toc_cell": true,
   "toc_number_sections": true,
   "toc_section_display": "none",
   "toc_threshold": 6,
   "toc_window_display": true
  }
 },
 "nbformat": 4,
 "nbformat_minor": 1
}
